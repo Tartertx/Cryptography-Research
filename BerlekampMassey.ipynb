{
 "cells": [
  {
   "cell_type": "code",
   "execution_count": 1,
   "id": "9362ebd6",
   "metadata": {},
   "outputs": [
    {
     "name": "stdout",
     "output_type": "stream",
     "text": [
      "Minimal Polynomial Coefficients: [1, 1, 1, 0, 0]\n"
     ]
    }
   ],
   "source": [
    "def berlekamp_massey(s):\n",
    "    n = len(s)\n",
    "    c = [0] * n\n",
    "    b = [0] * n\n",
    "    c[0] = b[0] = 1\n",
    "    l, m, d = 0, -1, 0\n",
    "\n",
    "    for i in range(n):\n",
    "        # Compute discrepancy\n",
    "        d = s[i]\n",
    "        for j in range(1, l + 1):\n",
    "            d ^= c[j] & s[i - j]\n",
    "\n",
    "        if d == 0:\n",
    "            continue\n",
    "\n",
    "        temp = c[:]\n",
    "        for j in range(i - m, n):\n",
    "            c[j] ^= b[j - (i - m)]\n",
    "\n",
    "        if 2 * l <= i:\n",
    "            l = i + 1 - l\n",
    "            b = temp\n",
    "            m = i\n",
    "\n",
    "    return c[:l + 1]  # Return the recurrence coefficients\n",
    "\n",
    "# Example binary sequence from LFSR\n",
    "sequence = [1, 0, 0, 1, 1, 0, 1, 1, 0, 1]\n",
    "\n",
    "recurrence = berlekamp_massey(sequence)\n",
    "\n",
    "print(\"Minimal Polynomial Coefficients:\", recurrence)"
   ]
  }
 ],
 "metadata": {
  "kernelspec": {
   "display_name": "Python 3",
   "language": "python",
   "name": "python3"
  },
  "language_info": {
   "codemirror_mode": {
    "name": "ipython",
    "version": 3
   },
   "file_extension": ".py",
   "mimetype": "text/x-python",
   "name": "python",
   "nbconvert_exporter": "python",
   "pygments_lexer": "ipython3",
   "version": "3.12.10"
  }
 },
 "nbformat": 4,
 "nbformat_minor": 5
}

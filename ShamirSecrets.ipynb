{
 "cells": [
  {
   "cell_type": "markdown",
   "id": "1a5c7e00",
   "metadata": {},
   "source": [
    "Shamir Secret Sharing:\n",
    "\n",
    "- Enter the secret, s, and the minimum number of recipients, t, of n shares.\n",
    "\n",
    "- Let p > max(s, n), with $\\mathbb{F}_p$ as our finite field. \n",
    "\n",
    "- Generate random coefficients for a polynomial of degree t-1, f(x), with the y-intercept as the secret text.\n",
    "\n",
    "- Compute n points on the polynomial, (x, f(x)), with $x \\neq 0$.\n",
    "\n",
    "- Give each participant a unique point.\n",
    "\n",
    "- To reconstruct the secret, use Lagrange interpolation formula with t many points of interpolation, and evaluate it at f(0)."
   ]
  },
  {
   "cell_type": "code",
   "execution_count": 2,
   "id": "61faf1d7",
   "metadata": {},
   "outputs": [],
   "source": [
    "import pandas as pd \n",
    "import sagemath as sg \n",
    "import random as rd\n",
    "import numpy as np\n",
    "import plotly.express as px\n",
    "from random import randint\n",
    "from math import gcd\n",
    "import gmpy2\n",
    "from gmpy2 import mpz, is_prime, gcdext, invert\n",
    "import sympy as sp\n",
    "from sympy import isprime, factorint, mod_inverse\n",
    "import numpy.polynomial.polynomial as poly"
   ]
  },
  {
   "cell_type": "markdown",
   "id": "d4f1216d",
   "metadata": {},
   "source": [
    "Encoding"
   ]
  },
  {
   "cell_type": "code",
   "execution_count": 3,
   "id": "bc569569",
   "metadata": {},
   "outputs": [
    {
     "name": "stdout",
     "output_type": "stream",
     "text": [
      "We are using Z mod 967297 as our finite field.\n"
     ]
    },
    {
     "data": {
      "text/latex": [
       "$x \\mapsto \\text{967293.0} + \\text{560198.0}\\,x + \\text{624618.0}\\,x^{2} + \\text{874854.0}\\,x^{3} + \\text{158861.0}\\,x^{4}$"
      ],
      "text/plain": [
       "Polynomial([967293., 560198., 624618., 874854., 158861.], domain=[-1,  1], window=[-1,  1], symbol='x')"
      ]
     },
     "metadata": {},
     "output_type": "display_data"
    },
    {
     "data": {
      "text/html": [
       "<div>\n",
       "<style scoped>\n",
       "    .dataframe tbody tr th:only-of-type {\n",
       "        vertical-align: middle;\n",
       "    }\n",
       "\n",
       "    .dataframe tbody tr th {\n",
       "        vertical-align: top;\n",
       "    }\n",
       "\n",
       "    .dataframe thead th {\n",
       "        text-align: right;\n",
       "    }\n",
       "</style>\n",
       "<table border=\"1\" class=\"dataframe\">\n",
       "  <thead>\n",
       "    <tr style=\"text-align: right;\">\n",
       "      <th></th>\n",
       "      <th>X</th>\n",
       "      <th>f(X)</th>\n",
       "    </tr>\n",
       "  </thead>\n",
       "  <tbody>\n",
       "    <tr>\n",
       "      <th>0</th>\n",
       "      <td>73</td>\n",
       "      <td>4855076493088.0</td>\n",
       "    </tr>\n",
       "    <tr>\n",
       "      <th>1</th>\n",
       "      <td>94</td>\n",
       "      <td>13135268538745.0</td>\n",
       "    </tr>\n",
       "    <tr>\n",
       "      <th>2</th>\n",
       "      <td>91</td>\n",
       "      <td>11558375890024.0</td>\n",
       "    </tr>\n",
       "    <tr>\n",
       "      <th>3</th>\n",
       "      <td>96</td>\n",
       "      <td>14272630441149.0</td>\n",
       "    </tr>\n",
       "    <tr>\n",
       "      <th>4</th>\n",
       "      <td>66</td>\n",
       "      <td>3268621337649.0</td>\n",
       "    </tr>\n",
       "    <tr>\n",
       "      <th>...</th>\n",
       "      <td>...</td>\n",
       "      <td>...</td>\n",
       "    </tr>\n",
       "    <tr>\n",
       "      <th>88</th>\n",
       "      <td>78</td>\n",
       "      <td>6299257365273.0</td>\n",
       "    </tr>\n",
       "    <tr>\n",
       "      <th>89</th>\n",
       "      <td>89</td>\n",
       "      <td>10589038521120.0</td>\n",
       "    </tr>\n",
       "    <tr>\n",
       "      <th>91</th>\n",
       "      <td>71</td>\n",
       "      <td>4353234366024.0</td>\n",
       "    </tr>\n",
       "    <tr>\n",
       "      <th>94</th>\n",
       "      <td>36</td>\n",
       "      <td>308473304949.0</td>\n",
       "    </tr>\n",
       "    <tr>\n",
       "      <th>97</th>\n",
       "      <td>2</td>\n",
       "      <td>14126769.0</td>\n",
       "    </tr>\n",
       "  </tbody>\n",
       "</table>\n",
       "<p>64 rows × 2 columns</p>\n",
       "</div>"
      ],
      "text/plain": [
       "     X              f(X)\n",
       "0   73   4855076493088.0\n",
       "1   94  13135268538745.0\n",
       "2   91  11558375890024.0\n",
       "3   96  14272630441149.0\n",
       "4   66   3268621337649.0\n",
       "..  ..               ...\n",
       "88  78   6299257365273.0\n",
       "89  89  10589038521120.0\n",
       "91  71   4353234366024.0\n",
       "94  36    308473304949.0\n",
       "97   2        14126769.0\n",
       "\n",
       "[64 rows x 2 columns]"
      ]
     },
     "metadata": {},
     "output_type": "display_data"
    }
   ],
   "source": [
    "secret = 967293\n",
    "min_reps = 5\n",
    "n = 100\n",
    "\n",
    "p = max(secret, n) + 1\n",
    "def getPrime(p):\n",
    "    k = True\n",
    "\n",
    "    while k == True:\n",
    "        if isprime(p) == True:\n",
    "            k = False\n",
    "        else:\n",
    "            p = p +1\n",
    "        \n",
    "    return p\n",
    "\n",
    "prime = getPrime(p)\n",
    "print(f'We are using Z mod {prime} as our finite field.')\n",
    "\n",
    "\n",
    "def polynomialMaker(t,prime):\n",
    "    polylist = [secret]\n",
    "    for i in range(t-1):\n",
    "        polylist = polylist + [randint(0,prime)]\n",
    "    eq = poly.Polynomial(polylist)\n",
    "    return eq\n",
    "\n",
    "encodingPoly = polynomialMaker(min_reps,prime)\n",
    "display(encodingPoly)\n",
    "\n",
    "\n",
    "def splitter(eq, n, prime):\n",
    "    points = pd.DataFrame(columns=['X', 'f(X)'])\n",
    "    list = []\n",
    "    for i in range(n):\n",
    "        k = randint(1,n)\n",
    "        if k in list:\n",
    "            continue\n",
    "        else:\n",
    "            list = list + [k]\n",
    "            points.loc[i, 'X'\n",
    "                       ] = k\n",
    "            num = eq(k)\n",
    "            points.loc[i, 'f(X)'] = num \n",
    "    \n",
    "    return points\n",
    "\n",
    "ciphertext = splitter(encodingPoly, n, prime)\n",
    "display(ciphertext)"
   ]
  },
  {
   "cell_type": "markdown",
   "id": "30b724d1",
   "metadata": {},
   "source": [
    "Decoding:"
   ]
  },
  {
   "cell_type": "code",
   "execution_count": 5,
   "id": "a5afcd94",
   "metadata": {},
   "outputs": [
    {
     "name": "stdout",
     "output_type": "stream",
     "text": [
      "Lagrange Polynomial was -4.0 - 407099.0 x - 342679.0 x**2 - 92443.0 x**3 + 158861.0 x**4\n",
      "Safetext was 967293.0\n"
     ]
    }
   ],
   "source": [
    "def modinv(a, p):\n",
    "    return pow(a, p - 2, p)\n",
    "\n",
    "def lagrange_symbolic(df, p):\n",
    "    x = sp.Symbol('x')\n",
    "    xs = [int(v) for v in df['X']]\n",
    "    ys = [int(v) for v in df['f(X)']]\n",
    "    n = len(xs)\n",
    "\n",
    "    poly = 0\n",
    "    for i in range(n):\n",
    "        xi, yi = xs[i], ys[i]\n",
    "        term = yi\n",
    "        numerator = 1\n",
    "        denominator = 1\n",
    "        Li = 1\n",
    "        for j in range(n):\n",
    "            if i != j:\n",
    "                xj = xs[j]\n",
    "                numerator *= (x - xj)\n",
    "                denominator *= (xi - xj) % p\n",
    "        Li = numerator * modinv(denominator, p)\n",
    "        poly += term * Li\n",
    "\n",
    "    # Expand and reduce modulo p\n",
    "    poly = sp.expand(poly)\n",
    "    coeffs = sp.Poly(poly, x, modulus=p).all_coeffs()  # highest degree first\n",
    "\n",
    "    # Convert to ascending order\n",
    "    return [int(c) for c in reversed(coeffs)]\n",
    "\n",
    "shift_factor = 0\n",
    "\n",
    "decodingPoly = lagrange_symbolic(ciphertext.head(min_reps+shift_factor), prime)\n",
    "eq = poly.Polynomial(decodingPoly)\n",
    "print(f'Lagrange Polynomial was {eq}')\n",
    "print(f'Safetext was {(eq(0) % prime)}')\n"
   ]
  }
 ],
 "metadata": {
  "kernelspec": {
   "display_name": "Python 3",
   "language": "python",
   "name": "python3"
  },
  "language_info": {
   "codemirror_mode": {
    "name": "ipython",
    "version": 3
   },
   "file_extension": ".py",
   "mimetype": "text/x-python",
   "name": "python",
   "nbconvert_exporter": "python",
   "pygments_lexer": "ipython3",
   "version": "3.12.10"
  }
 },
 "nbformat": 4,
 "nbformat_minor": 5
}
